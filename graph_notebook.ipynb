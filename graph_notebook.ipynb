{
 "metadata": {
  "name": "",
  "signature": "sha256:17d3cc793e035e0f43a94dd21ce290f8f5d3aaa4cd259206893716bb6615fbfe"
 },
 "nbformat": 3,
 "nbformat_minor": 0,
 "worksheets": [
  {
   "cells": [
    {
     "cell_type": "code",
     "collapsed": false,
     "input": [
      "\"\"\" Read an authN graph (adjacency list) and print out basic info\n",
      "\"\"\"\n",
      "from __future__ import print_function\n",
      "import networkx as nx\n",
      "from networkx.algorithms import bipartite\n",
      "import sys"
     ],
     "language": "python",
     "metadata": {},
     "outputs": [],
     "prompt_number": 2
    },
    {
     "cell_type": "code",
     "collapsed": false,
     "input": [
      "graph_filename = 'auth_graph_adjlist.dat'\n",
      "G = nx.read_adjlist(graph_filename)"
     ],
     "language": "python",
     "metadata": {},
     "outputs": [],
     "prompt_number": 3
    },
    {
     "cell_type": "code",
     "collapsed": false,
     "input": [
      "print('# nodes = '+str(len(G.nodes())))\n",
      "print('# edges = '+str(len(G.edges())))"
     ],
     "language": "python",
     "metadata": {},
     "outputs": [
      {
       "output_type": "stream",
       "stream": "stdout",
       "text": [
        "# nodes = 33644\n",
        "# edges = 312283"
       ]
      },
      {
       "output_type": "stream",
       "stream": "stdout",
       "text": [
        "\n"
       ]
      }
     ],
     "prompt_number": 4
    },
    {
     "cell_type": "code",
     "collapsed": false,
     "input": [
      "\"\"\"Since G is bipartite, extract the 2 types of nodes (users & computers)\"\"\"\n",
      "cnodes,unodes = bipartite.sets(G)"
     ],
     "language": "python",
     "metadata": {},
     "outputs": [],
     "prompt_number": 5
    },
    {
     "cell_type": "code",
     "collapsed": false,
     "input": [
      "print('  # users     = '+str(len(unodes)))\n",
      "print('  # computers = '+str(len(cnodes)))"
     ],
     "language": "python",
     "metadata": {},
     "outputs": [
      {
       "output_type": "stream",
       "stream": "stdout",
       "text": [
        "  # users     = 11361\n",
        "  # computers = 22283\n"
       ]
      }
     ],
     "prompt_number": 6
    },
    {
     "cell_type": "code",
     "collapsed": false,
     "input": [
      "\"\"\"Get largest hub user\"\"\"\n",
      "from operator import itemgetter\n",
      "num = 0\n",
      "maxHubs = 4\n",
      "while num < maxHubs:\n",
      "  node,deg=max(G.degree_iter(),key=itemgetter(1)) # get node of max degree\n",
      "  if node[0] == 'U':   # 'U'=users; 'C'=computers\n",
      "    print(node, str(deg),end=', ')\n",
      "    G.remove_node(node)\n",
      "    num += 1\n",
      "  else:\n",
      "    G.remove_node(node)"
     ],
     "language": "python",
     "metadata": {},
     "outputs": [
      {
       "output_type": "stream",
       "stream": "stdout",
       "text": [
        "U8060 6724, U4075"
       ]
      },
      {
       "output_type": "stream",
       "stream": "stdout",
       "text": [
        " 2068, U8488"
       ]
      },
      {
       "output_type": "stream",
       "stream": "stdout",
       "text": [
        " 1344, U2996"
       ]
      },
      {
       "output_type": "stream",
       "stream": "stdout",
       "text": [
        " 1042, "
       ]
      }
     ],
     "prompt_number": 7
    },
    {
     "cell_type": "code",
     "collapsed": false,
     "input": [
      "\"\"\"Read the time events (previously extracted from the raw data)\"\"\"\n",
      "import numpy as np\n",
      "filename = 'time_secs_binary_f32.dat'\n",
      "timevals = np.fromfile(filename, dtype=np.float32, count=-1)"
     ],
     "language": "python",
     "metadata": {},
     "outputs": [],
     "prompt_number": 8
    },
    {
     "cell_type": "code",
     "collapsed": false,
     "input": [
      "\"\"\"Plot histogram of time events\"\"\"\n",
      "%matplotlib inline"
     ],
     "language": "python",
     "metadata": {},
     "outputs": [],
     "prompt_number": 9
    },
    {
     "cell_type": "code",
     "collapsed": false,
     "input": [
      "import matplotlib.pyplot as plt"
     ],
     "language": "python",
     "metadata": {},
     "outputs": [],
     "prompt_number": 10
    },
    {
     "cell_type": "code",
     "collapsed": false,
     "input": [
      "fig = plt.figure()\n",
      "ax = fig.add_subplot(111)\n",
      "\n",
      "nbins = 10000\n",
      "ax.hist(timevals/3600, nbins, facecolor='black')\n",
      "ax.set_xlim([0,350])\n",
      "ax.set_title('authN event histogram: '+str(nbins)+' bins')\n",
      "ax.set_xlabel('time(hrs)')\n",
      "ax.set_ylabel('count')"
     ],
     "language": "python",
     "metadata": {},
     "outputs": [
      {
       "metadata": {},
       "output_type": "pyout",
       "prompt_number": 11,
       "text": [
        "<matplotlib.text.Text at 0x10a9d9e48>"
       ]
      },
      {
       "metadata": {},
       "output_type": "display_data",
       "png": "[encoded data removed]",
       "text": [
        "<matplotlib.figure.Figure at 0x10a9e69b0>"
       ]
      }
     ],
     "prompt_number": 11
    },
    {
     "cell_type": "code",
     "collapsed": false,
     "input": [],
     "language": "python",
     "metadata": {},
     "outputs": [],
     "prompt_number": 11
    }
   ],
   "metadata": {}
  }
 ]
}